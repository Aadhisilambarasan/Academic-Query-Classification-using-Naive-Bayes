{
  "metadata": {
    "kernelspec": {
      "language": "python",
      "display_name": "Python 3",
      "name": "python3"
    },
    "language_info": {
      "name": "python",
      "version": "3.10.13",
      "mimetype": "text/x-python",
      "codemirror_mode": {
        "name": "ipython",
        "version": 3
      },
      "pygments_lexer": "ipython3",
      "nbconvert_exporter": "python",
      "file_extension": ".py"
    },
    "kaggle": {
      "accelerator": "none",
      "dataSources": [
        {
          "sourceId": 67156,
          "databundleVersionId": 7555629,
          "sourceType": "competition"
        }
      ],
      "dockerImageVersionId": 30664,
      "isInternetEnabled": false,
      "language": "python",
      "sourceType": "notebook",
      "isGpuEnabled": false
    },
    "colab": {
      "name": "Academic Query Classification using Naive Bayes",
      "provenance": [],
      "include_colab_link": true
    }
  },
  "nbformat_minor": 0,
  "nbformat": 4,
  "cells": [
    {
      "cell_type": "markdown",
      "metadata": {
        "id": "view-in-github",
        "colab_type": "text"
      },
      "source": [
        "<a href=\"https://colab.research.google.com/github/Aadhisilambarasan/Academic-Query-Classification-using-Naive-Bayes/blob/main/Academic_Query_Classification_using_Naive_Bayes.ipynb\" target=\"_parent\"><img src=\"https://colab.research.google.com/assets/colab-badge.svg\" alt=\"Open In Colab\"/></a>"
      ]
    },
    {
      "source": [
        "\n",
        "# IMPORTANT: RUN THIS CELL IN ORDER TO IMPORT YOUR KAGGLE DATA SOURCES\n",
        "# TO THE CORRECT LOCATION (/kaggle/input) IN YOUR NOTEBOOK,\n",
        "# THEN FEEL FREE TO DELETE THIS CELL.\n",
        "# NOTE: THIS NOTEBOOK ENVIRONMENT DIFFERS FROM KAGGLE'S PYTHON\n",
        "# ENVIRONMENT SO THERE MAY BE MISSING LIBRARIES USED BY YOUR\n",
        "# NOTEBOOK.\n",
        "\n",
        "import os\n",
        "import sys\n",
        "from tempfile import NamedTemporaryFile\n",
        "from urllib.request import urlopen\n",
        "from urllib.parse import unquote, urlparse\n",
        "from urllib.error import HTTPError\n",
        "from zipfile import ZipFile\n",
        "import tarfile\n",
        "import shutil\n",
        "\n",
        "CHUNK_SIZE = 40960\n",
        "DATA_SOURCE_MAPPING = 'academic-query-classification:https%3A%2F%2Fstorage.googleapis.com%2Fkaggle-competitions-data%2Fkaggle-v2%2F67156%2F7555629%2Fbundle%2Farchive.zip%3FX-Goog-Algorithm%3DGOOG4-RSA-SHA256%26X-Goog-Credential%3Dgcp-kaggle-com%2540kaggle-161607.iam.gserviceaccount.com%252F20240429%252Fauto%252Fstorage%252Fgoog4_request%26X-Goog-Date%3D20240429T014536Z%26X-Goog-Expires%3D259200%26X-Goog-SignedHeaders%3Dhost%26X-Goog-Signature%3D2cb87e9b7bf270a85158e9856751e523d0947073a3dd0e59725d4ffcffa04b07a6720b80b1dd6a3c2b72f47dcfadff607d9972a1c6111a22a810388f272f9868bb79233791101dcb05f6ed5abc764cfe9ebd0fdf75eb090c01cc183fff7a1557414e0acbc74700676370de97ea5cb9baf5f1d8643e5f81ecc708f872bcef26f17e044f2e986d68bc7816b24659bd5cf9e87418791d3f46f99051d99599c43c30623ad3d5f65d2d187391b3531310bc1309faace4cecc5483d2157396b56eb4ff0e3060ee7970c7e783c5aad0b2cf73ff8642cb50baa836dd5a84530d80ab5786fb5cdf15b990e1f6dc05a4050adc3c4ca475d4b4d4091d28c4366a31cc26f716'\n",
        "\n",
        "KAGGLE_INPUT_PATH='/kaggle/input'\n",
        "KAGGLE_WORKING_PATH='/kaggle/working'\n",
        "KAGGLE_SYMLINK='kaggle'\n",
        "\n",
        "!umount /kaggle/input/ 2> /dev/null\n",
        "shutil.rmtree('/kaggle/input', ignore_errors=True)\n",
        "os.makedirs(KAGGLE_INPUT_PATH, 0o777, exist_ok=True)\n",
        "os.makedirs(KAGGLE_WORKING_PATH, 0o777, exist_ok=True)\n",
        "\n",
        "try:\n",
        "  os.symlink(KAGGLE_INPUT_PATH, os.path.join(\"..\", 'input'), target_is_directory=True)\n",
        "except FileExistsError:\n",
        "  pass\n",
        "try:\n",
        "  os.symlink(KAGGLE_WORKING_PATH, os.path.join(\"..\", 'working'), target_is_directory=True)\n",
        "except FileExistsError:\n",
        "  pass\n",
        "\n",
        "for data_source_mapping in DATA_SOURCE_MAPPING.split(','):\n",
        "    directory, download_url_encoded = data_source_mapping.split(':')\n",
        "    download_url = unquote(download_url_encoded)\n",
        "    filename = urlparse(download_url).path\n",
        "    destination_path = os.path.join(KAGGLE_INPUT_PATH, directory)\n",
        "    try:\n",
        "        with urlopen(download_url) as fileres, NamedTemporaryFile() as tfile:\n",
        "            total_length = fileres.headers['content-length']\n",
        "            print(f'Downloading {directory}, {total_length} bytes compressed')\n",
        "            dl = 0\n",
        "            data = fileres.read(CHUNK_SIZE)\n",
        "            while len(data) > 0:\n",
        "                dl += len(data)\n",
        "                tfile.write(data)\n",
        "                done = int(50 * dl / int(total_length))\n",
        "                sys.stdout.write(f\"\\r[{'=' * done}{' ' * (50-done)}] {dl} bytes downloaded\")\n",
        "                sys.stdout.flush()\n",
        "                data = fileres.read(CHUNK_SIZE)\n",
        "            if filename.endswith('.zip'):\n",
        "              with ZipFile(tfile) as zfile:\n",
        "                zfile.extractall(destination_path)\n",
        "            else:\n",
        "              with tarfile.open(tfile.name) as tarfile:\n",
        "                tarfile.extractall(destination_path)\n",
        "            print(f'\\nDownloaded and uncompressed: {directory}')\n",
        "    except HTTPError as e:\n",
        "        print(f'Failed to load (likely expired) {download_url} to path {destination_path}')\n",
        "        continue\n",
        "    except OSError as e:\n",
        "        print(f'Failed to load {download_url} to path {destination_path}')\n",
        "        continue\n",
        "\n",
        "print('Data source import complete.')\n"
      ],
      "metadata": {
        "id": "vT2G5cnWh4Rw"
      },
      "cell_type": "code",
      "outputs": [],
      "execution_count": null
    },
    {
      "cell_type": "code",
      "source": [
        "# This Python 3 environment comes with many helpful analytics libraries installed\n",
        "# It is defined by the kaggle/python Docker image: https://github.com/kaggle/docker-python\n",
        "# For example, here's several helpful packages to load\n",
        "\n",
        "import numpy as np # linear algebra\n",
        "import pandas as pd # data processing, CSV file I/O (e.g. pd.read_csv)\n",
        "\n",
        "# Input data files are available in the read-only \"../input/\" directory\n",
        "# For example, running this (by clicking run or pressing Shift+Enter) will list all files under the input directory\n",
        "\n",
        "import os\n",
        "for dirname, _, filenames in os.walk('/kaggle/input'):\n",
        "    for filename in filenames:\n",
        "        print(os.path.join(dirname, filename))\n",
        "\n",
        "# You can write up to 20GB to the current directory (/kaggle/working/) that gets preserved as output when you create a version using \"Save & Run All\"\n",
        "# You can also write temporary files to /kaggle/temp/, but they won't be saved outside of the current session"
      ],
      "metadata": {
        "_uuid": "8f2839f25d086af736a60e9eeb907d3b93b6e0e5",
        "_cell_guid": "b1076dfc-b9ad-4769-8c92-a6c4dae69d19",
        "execution": {
          "iopub.status.busy": "2024-03-16T13:59:55.426723Z",
          "iopub.execute_input": "2024-03-16T13:59:55.427029Z",
          "iopub.status.idle": "2024-03-16T13:59:56.571581Z",
          "shell.execute_reply.started": "2024-03-16T13:59:55.427005Z",
          "shell.execute_reply": "2024-03-16T13:59:56.570118Z"
        },
        "trusted": true,
        "id": "z7-JaXkqh4R2"
      },
      "execution_count": null,
      "outputs": []
    },
    {
      "cell_type": "markdown",
      "source": [
        "# Importing Required Libraries"
      ],
      "metadata": {
        "id": "FesLCje8h4R4"
      }
    },
    {
      "cell_type": "code",
      "source": [
        "import pandas as pd\n",
        "import matplotlib.pyplot as plt\n",
        "from sklearn.feature_extraction.text import TfidfVectorizer\n",
        "from sklearn.naive_bayes import MultinomialNB\n",
        "from sklearn.metrics import accuracy_score, classification_report"
      ],
      "metadata": {
        "execution": {
          "iopub.status.busy": "2024-03-16T14:02:59.770137Z",
          "iopub.execute_input": "2024-03-16T14:02:59.770673Z",
          "iopub.status.idle": "2024-03-16T14:03:00.265537Z",
          "shell.execute_reply.started": "2024-03-16T14:02:59.770642Z",
          "shell.execute_reply": "2024-03-16T14:03:00.264373Z"
        },
        "trusted": true,
        "id": "ysIIs5Aeh4R6"
      },
      "execution_count": null,
      "outputs": []
    },
    {
      "cell_type": "markdown",
      "source": [
        "# Load and Explore Data"
      ],
      "metadata": {
        "id": "39bz4RZlh4R7"
      }
    },
    {
      "cell_type": "code",
      "source": [
        "# Load train and test data\n",
        "train_data = pd.read_csv('/kaggle/input/academic-query-classification/train.csv')\n",
        "test_data = pd.read_csv('/kaggle/input/academic-query-classification/test.csv')"
      ],
      "metadata": {
        "execution": {
          "iopub.status.busy": "2024-03-16T14:03:29.01586Z",
          "iopub.execute_input": "2024-03-16T14:03:29.016225Z",
          "iopub.status.idle": "2024-03-16T14:03:29.071507Z",
          "shell.execute_reply.started": "2024-03-16T14:03:29.01619Z",
          "shell.execute_reply": "2024-03-16T14:03:29.069678Z"
        },
        "trusted": true,
        "id": "9P7lQM-lh4R8"
      },
      "execution_count": null,
      "outputs": []
    },
    {
      "cell_type": "code",
      "source": [
        "# Display the first few rows of train data\n",
        "print(\"Train Data:\")\n",
        "print(train_data.head())\n",
        "\n",
        "# Display the first few rows of test data\n",
        "print(\"\\nTest Data:\")\n",
        "print(test_data.head())"
      ],
      "metadata": {
        "execution": {
          "iopub.status.busy": "2024-03-16T14:03:41.814981Z",
          "iopub.execute_input": "2024-03-16T14:03:41.815348Z",
          "iopub.status.idle": "2024-03-16T14:03:41.826392Z",
          "shell.execute_reply.started": "2024-03-16T14:03:41.815321Z",
          "shell.execute_reply": "2024-03-16T14:03:41.825666Z"
        },
        "trusted": true,
        "id": "i4Z4CaWBh4R8"
      },
      "execution_count": null,
      "outputs": []
    },
    {
      "cell_type": "code",
      "source": [
        "# Check for missing values\n",
        "print(\"Train Data Missing Values:\")\n",
        "print(train_data.isnull().sum())\n",
        "\n",
        "print(\"\\nTest Data Missing Values:\")\n",
        "print(test_data.isnull().sum())"
      ],
      "metadata": {
        "execution": {
          "iopub.status.busy": "2024-03-16T14:04:03.927271Z",
          "iopub.execute_input": "2024-03-16T14:04:03.927595Z",
          "iopub.status.idle": "2024-03-16T14:04:03.938476Z",
          "shell.execute_reply.started": "2024-03-16T14:04:03.92757Z",
          "shell.execute_reply": "2024-03-16T14:04:03.937373Z"
        },
        "trusted": true,
        "id": "D_-Cb8ajh4R9"
      },
      "execution_count": null,
      "outputs": []
    },
    {
      "cell_type": "code",
      "source": [
        "# Explore category distribution before balancing\n",
        "plt.figure(figsize=(10,5))\n",
        "category_counts=train_data['category'].value_counts()\n",
        "plt.bar(category_counts.index, category_counts.values)\n",
        "plt.xlabel('Category')\n",
        "plt.ylabel('Count')\n",
        "plt.title('Category Distribution Before Balancing')\n",
        "plt.show()\n"
      ],
      "metadata": {
        "execution": {
          "iopub.status.busy": "2024-03-16T14:07:50.433482Z",
          "iopub.execute_input": "2024-03-16T14:07:50.43385Z",
          "iopub.status.idle": "2024-03-16T14:07:50.631372Z",
          "shell.execute_reply.started": "2024-03-16T14:07:50.433822Z",
          "shell.execute_reply": "2024-03-16T14:07:50.630556Z"
        },
        "trusted": true,
        "id": "UI5ypx8Bh4R-"
      },
      "execution_count": null,
      "outputs": []
    },
    {
      "cell_type": "markdown",
      "source": [
        "# Preprocessing Data\n"
      ],
      "metadata": {
        "id": "3FQ97b7Lh4R_"
      }
    },
    {
      "cell_type": "markdown",
      "source": [
        "### Balancing the data"
      ],
      "metadata": {
        "id": "vDb2AljRh4R_"
      }
    },
    {
      "cell_type": "code",
      "source": [
        "# balance data by resampling each class to have the same number of samples\n",
        "# Balancing the data and silencing the warning\n",
        "grouped_train_data = train_data.groupby('category', group_keys=False)\n",
        "balanced_train_data = grouped_train_data.apply(lambda x: x.sample(train_data['category'].value_counts().min()).reset_index(drop=True))\n",
        "balanced_train_data = balanced_train_data.reset_index(drop=True)"
      ],
      "metadata": {
        "execution": {
          "iopub.status.busy": "2024-03-16T14:17:49.149107Z",
          "iopub.execute_input": "2024-03-16T14:17:49.149482Z",
          "iopub.status.idle": "2024-03-16T14:17:49.165587Z",
          "shell.execute_reply.started": "2024-03-16T14:17:49.149452Z",
          "shell.execute_reply": "2024-03-16T14:17:49.164166Z"
        },
        "trusted": true,
        "id": "BDW4vE1uh4R_"
      },
      "execution_count": null,
      "outputs": []
    },
    {
      "cell_type": "code",
      "source": [
        "# Explore category distribution after balancing\n",
        "plt.figure(figsize=(10,5))\n",
        "category_bal=balanced_train_data['category'].value_counts()\n",
        "plt.bar(category_bal.index, category_bal.values)\n",
        "plt.xlabel('Category')\n",
        "plt.ylabel('Count')\n",
        "plt.title('Category Distribution After Balancing')\n",
        "plt.show()"
      ],
      "metadata": {
        "execution": {
          "iopub.status.busy": "2024-03-16T14:21:45.626323Z",
          "iopub.execute_input": "2024-03-16T14:21:45.626664Z",
          "iopub.status.idle": "2024-03-16T14:21:45.811497Z",
          "shell.execute_reply.started": "2024-03-16T14:21:45.626637Z",
          "shell.execute_reply": "2024-03-16T14:21:45.810654Z"
        },
        "trusted": true,
        "id": "akyCPPhrh4SA"
      },
      "execution_count": null,
      "outputs": []
    },
    {
      "cell_type": "code",
      "source": [
        "# Initialize TF-IDF vectorizer\n",
        "tfidf_vectorizer = TfidfVectorizer()\n",
        "\n",
        "# Fit and transform train data\n",
        "X_train = tfidf_vectorizer.fit_transform(balanced_train_data['query_text'])\n",
        "y_train = balanced_train_data['category']\n",
        "\n",
        "# Transform test data\n",
        "X_test = tfidf_vectorizer.transform(test_data['query_text'])"
      ],
      "metadata": {
        "execution": {
          "iopub.status.busy": "2024-03-16T14:22:44.759527Z",
          "iopub.execute_input": "2024-03-16T14:22:44.759854Z",
          "iopub.status.idle": "2024-03-16T14:22:44.844648Z",
          "shell.execute_reply.started": "2024-03-16T14:22:44.759833Z",
          "shell.execute_reply": "2024-03-16T14:22:44.843323Z"
        },
        "trusted": true,
        "id": "cN79S5e7h4SA"
      },
      "execution_count": null,
      "outputs": []
    },
    {
      "cell_type": "markdown",
      "source": [
        "# Training Naive Bayes Classifier"
      ],
      "metadata": {
        "id": "dui5L6GXh4SB"
      }
    },
    {
      "cell_type": "code",
      "source": [
        "# Initialize Naive Bayes classifier\n",
        "nb_classifier = MultinomialNB()\n",
        "\n",
        "# Train the classifier\n",
        "nb_classifier.fit(X_train, y_train)\n"
      ],
      "metadata": {
        "execution": {
          "iopub.status.busy": "2024-03-16T14:22:58.868778Z",
          "iopub.execute_input": "2024-03-16T14:22:58.869135Z",
          "iopub.status.idle": "2024-03-16T14:22:58.889323Z",
          "shell.execute_reply.started": "2024-03-16T14:22:58.869108Z",
          "shell.execute_reply": "2024-03-16T14:22:58.88783Z"
        },
        "trusted": true,
        "id": "uqdu5QZMh4SB"
      },
      "execution_count": null,
      "outputs": []
    },
    {
      "cell_type": "markdown",
      "source": [
        "# Evaluating Classifier"
      ],
      "metadata": {
        "id": "arnizIK_h4SB"
      }
    },
    {
      "cell_type": "code",
      "source": [
        "# Predict on train data for evaluation\n",
        "train_predictions = nb_classifier.predict(X_train)\n",
        "\n",
        "# Calculate accuracy\n",
        "train_accuracy = accuracy_score(y_train, train_predictions)\n",
        "print(\"Train Accuracy:\", train_accuracy)\n",
        "\n",
        "# Generate classification report\n",
        "print(\"Classification Report:\")\n",
        "print(classification_report(y_train, train_predictions))"
      ],
      "metadata": {
        "execution": {
          "iopub.status.busy": "2024-03-16T14:23:20.164459Z",
          "iopub.execute_input": "2024-03-16T14:23:20.165405Z",
          "iopub.status.idle": "2024-03-16T14:23:20.215364Z",
          "shell.execute_reply.started": "2024-03-16T14:23:20.165368Z",
          "shell.execute_reply": "2024-03-16T14:23:20.213873Z"
        },
        "trusted": true,
        "id": "BACL_pEBh4SB"
      },
      "execution_count": null,
      "outputs": []
    },
    {
      "cell_type": "markdown",
      "source": [
        "# Making Predictions"
      ],
      "metadata": {
        "id": "lSZACL2Zh4SC"
      }
    },
    {
      "cell_type": "code",
      "source": [
        "# predictions on test data\n",
        "test_predictions = nb_classifier.predict(X_test)\n"
      ],
      "metadata": {
        "execution": {
          "iopub.status.busy": "2024-03-16T14:23:49.203168Z",
          "iopub.execute_input": "2024-03-16T14:23:49.203485Z",
          "iopub.status.idle": "2024-03-16T14:23:49.210142Z",
          "shell.execute_reply.started": "2024-03-16T14:23:49.20346Z",
          "shell.execute_reply": "2024-03-16T14:23:49.209077Z"
        },
        "trusted": true,
        "id": "V1vlXHvGh4SD"
      },
      "execution_count": null,
      "outputs": []
    },
    {
      "cell_type": "markdown",
      "source": [
        "### Saving Predictions to CSV"
      ],
      "metadata": {
        "id": "_GsPJw6Eh4SD"
      }
    },
    {
      "cell_type": "code",
      "source": [
        "# Create a DataFrame for predictions\n",
        "output = pd.DataFrame({'unique ID': test_data['unique ID'], 'category': test_predictions})\n",
        "\n",
        "# Save predictions to CSV\n",
        "output[['unique ID', 'category']].to_csv('/kaggle/working/submission.csv', index=False)"
      ],
      "metadata": {
        "execution": {
          "iopub.status.busy": "2024-03-16T14:36:13.781648Z",
          "iopub.execute_input": "2024-03-16T14:36:13.78199Z",
          "iopub.status.idle": "2024-03-16T14:36:13.792578Z",
          "shell.execute_reply.started": "2024-03-16T14:36:13.781961Z",
          "shell.execute_reply": "2024-03-16T14:36:13.791266Z"
        },
        "trusted": true,
        "id": "ct5_Yyssh4SD"
      },
      "execution_count": null,
      "outputs": []
    }
  ]
}